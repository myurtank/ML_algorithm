{
 "cells": [
  {
   "cell_type": "code",
   "execution_count": 1,
   "metadata": {},
   "outputs": [],
   "source": [
    "import numpy as np"
   ]
  },
  {
   "cell_type": "code",
   "execution_count": 3,
   "metadata": {},
   "outputs": [],
   "source": [
    "class SGD:\n",
    "    def __init__(self, lr = 0.01, epochs = 1000, batch_size = 32, tol = 1e-3):\n",
    "        self.learning_rate = lr\n",
    "        self.epochs = epochs\n",
    "        self.batch_size = batch_size\n",
    "        self.tolerance = tol \n",
    "        self.weights = None\n",
    "        self.bias = None \n",
    "\n",
    "    def predict(self, X):\n",
    "        return np.dot(X, self.weights) + self.bias  \n",
    "    \n",
    "    def mean_squared_error(self, y_true, y_pred):\n",
    "        return np.mean((y_true - y_pred)**2)\n",
    "    \n",
    "    def gradient(self, X_batch, y_batch):\n",
    "        y_pred = self.predict(X_batch)\n",
    "        error = y_pred - y_batch \n",
    "        gradient_weights = np.dot(X_batch.T, error) / X_batch.shape[0] \n",
    "        gradient_bias = np.mean(error) \n",
    "        return gradient_weights, gradient_bias \n",
    "    \n",
    "    def fit(self, X, y):\n",
    "        n_samples, n_features = X.shape \n",
    "        self.weights = np.random.randn(n_features)\n",
    "        self.bias = np.random.randn() \n",
    "\n",
    "        for epoch in range(self.epochs):\n",
    "            indices = np.random.permutation(n_samples)\n",
    "            X_shuffled = X[indices]\n",
    "            y_shuffled = y[indices] \n",
    "\n",
    "            for i in range(0, n_samples, self.batch_size):\n",
    "                X_batch = X_shuffled[i:i+self.batch_size]\n",
    "                y_batch = y_shuffled[i:i+self.batch_size]\n",
    "\n",
    "                gradient_weights, gradient_bias = self.gradient(X_batch, y_batch)\n",
    "                self.weights -= self.learning_rate*gradient_weights \n",
    "                self.bias -= self.learning_rate*gradient_bias \n",
    "            \n",
    "            if epoch % 100 == 0 :\n",
    "                y_pred = self.predict(X)\n",
    "                loss = self.mean_squared_error(y , y_pred)\n",
    "                print(f'Epoch {epoch} : , Loss : {loss}') \n",
    "\n",
    "\n",
    "            if np.linalg.norm(gradient_weights) < self.tolerance : \n",
    "                print(\"convergence reached\")\n",
    "                break \n",
    "\n",
    "        return self.weights, self.bias \n",
    "\n",
    "\n",
    "            "
   ]
  },
  {
   "cell_type": "code",
   "execution_count": 4,
   "metadata": {},
   "outputs": [
    {
     "name": "stdout",
     "output_type": "stream",
     "text": [
      "Epoch 0 : , Loss : 44.64571882045409\n",
      "Epoch 100 : , Loss : 0.054739588680452325\n",
      "Epoch 200 : , Loss : 0.010851255057184855\n",
      "Epoch 300 : , Loss : 0.010751548720925841\n",
      "Epoch 400 : , Loss : 0.010732402428372045\n",
      "Epoch 500 : , Loss : 0.010735645619667897\n",
      "Epoch 600 : , Loss : 0.010742011670094708\n",
      "Epoch 700 : , Loss : 0.010738528393221014\n",
      "Epoch 800 : , Loss : 0.010732094220865553\n",
      "Epoch 900 : , Loss : 0.01073202187894904\n"
     ]
    }
   ],
   "source": [
    "#create randome dataset with 100  rows and 5 coloums \n",
    "\n",
    "X = np.random.randn(100, 5)\n",
    "\n",
    "#create corresponnign target value by adding random noise in dataset \n",
    "\n",
    "y = np.dot(X, np.array([1,2,3,4,5])) + np.random.randn(100)*0.1 \n",
    "\n",
    "\n",
    "model = SGD(lr=0.01, epochs=1000, batch_size=32, tol=1e-3) \n",
    "\n",
    "\n",
    "w,b = model.fit(X,y) \n",
    "\n",
    "\n",
    "y_pred = w*X + b "
   ]
  }
 ],
 "metadata": {
  "kernelspec": {
   "display_name": "Python 3",
   "language": "python",
   "name": "python3"
  },
  "language_info": {
   "codemirror_mode": {
    "name": "ipython",
    "version": 3
   },
   "file_extension": ".py",
   "mimetype": "text/x-python",
   "name": "python",
   "nbconvert_exporter": "python",
   "pygments_lexer": "ipython3",
   "version": "3.11.1"
  }
 },
 "nbformat": 4,
 "nbformat_minor": 2
}
